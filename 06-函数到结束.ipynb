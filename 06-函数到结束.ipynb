{
 "cells": [
  {
   "cell_type": "code",
   "execution_count": 3,
   "metadata": {},
   "outputs": [
    {
     "name": "stdout",
     "output_type": "stream",
     "text": [
      "i am a student\n",
      "my name is jingjing, i am 10 years old, my home at wojia\n",
      "i am a student\n",
      "my name is jingjing, i am 10 years old, my home at wojia\n",
      "i am a student\n",
      "my name is jingjing, i am 10 years old, my home at wojia\n"
     ]
    }
   ],
   "source": [
    "def stu(name,age,addr):\n",
    "    '''\n",
    "    这是函数的说明\n",
    "    '''\n",
    "    print(\"i am a student\")\n",
    "    print(\"my name is {0}, i am {1} years old, my home at {2}\".format(name,age,addr))\n",
    "    \n",
    "n = \"jingjing\"\n",
    "a = \"10\"\n",
    "addr = \"wojia\"\n",
    "\n",
    "stu(n, a, addr)\n",
    "stu(name=n, age=a, addr=addr)\n",
    "stu(age=a, name=n, addr=addr)\n",
    "\n",
    "\n",
    "\n",
    "\n",
    "    \n"
   ]
  },
  {
   "cell_type": "code",
   "execution_count": null,
   "metadata": {},
   "outputs": [],
   "source": []
  },
  {
   "cell_type": "code",
   "execution_count": null,
   "metadata": {},
   "outputs": [],
   "source": []
  },
  {
   "cell_type": "code",
   "execution_count": 4,
   "metadata": {},
   "outputs": [
    {
     "name": "stdout",
     "output_type": "stream",
     "text": [
      "Help on function stu in module __main__:\n",
      "\n",
      "stu(name, age, addr)\n",
      "    这是函数的说明\n",
      "\n"
     ]
    }
   ],
   "source": [
    "help(stu)\n"
   ]
  },
  {
   "cell_type": "code",
   "execution_count": 6,
   "metadata": {},
   "outputs": [
    {
     "ename": "AttributeError",
     "evalue": "'function' object has no attribute '_doc_'",
     "traceback": [
      "\u001b[0;31m---------------------------------------------------------------------------\u001b[0m",
      "\u001b[0;31mAttributeError\u001b[0m                            Traceback (most recent call last)",
      "\u001b[0;32m<ipython-input-6-f531398f1f35>\u001b[0m in \u001b[0;36m<module>\u001b[0;34m()\u001b[0m\n\u001b[0;32m----> 1\u001b[0;31m \u001b[0mprint\u001b[0m\u001b[0;34m(\u001b[0m\u001b[0mstu\u001b[0m\u001b[0;34m.\u001b[0m\u001b[0m_doc_\u001b[0m\u001b[0;34m)\u001b[0m\u001b[0;34m\u001b[0m\u001b[0m\n\u001b[0m\u001b[1;32m      2\u001b[0m \u001b[0;34m\u001b[0m\u001b[0m\n",
      "\u001b[0;31mAttributeError\u001b[0m: 'function' object has no attribute '_doc_'"
     ],
     "output_type": "error"
    }
   ],
   "source": [
    "print(stu._doc_)\n",
    "\n"
   ]
  },
  {
   "cell_type": "code",
   "execution_count": null,
   "metadata": {
    "collapsed": true
   },
   "outputs": [],
   "source": []
  }
 ],
 "metadata": {
  "kernelspec": {
   "display_name": "Python 3",
   "language": "python",
   "name": "python3"
  },
  "language_info": {
   "codemirror_mode": {
    "name": "ipython",
    "version": 3
   },
   "file_extension": ".py",
   "mimetype": "text/x-python",
   "name": "python",
   "nbconvert_exporter": "python",
   "pygments_lexer": "ipython3",
   "version": "3.6.3"
  }
 },
 "nbformat": 4,
 "nbformat_minor": 2
}
