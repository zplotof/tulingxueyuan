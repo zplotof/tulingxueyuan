{
 "cells": [
  {
   "cell_type": "code",
   "execution_count": 11,
   "metadata": {},
   "outputs": [
    {
     "name": "stdout",
     "output_type": "stream",
     "text": [
      "第 1 年的本息一共是 10670.0 元\n",
      "第 2 年的本息一共是 11384.89 元\n",
      "第 3 年的本息一共是 12147.677629999998 元\n",
      "第 4 年的本息一共是 12961.572031209998 元\n",
      "第 5 年的本息一共是 13829.997357301068 元\n",
      "第 6 年的本息一共是 14756.607180240238 元\n",
      "第 7 年的本息一共是 15745.299861316334 元\n",
      "第 8 年的本息一共是 16800.23495202453 元\n",
      "第 9 年的本息一共是 17925.85069381017 元\n",
      "第 10 年的本息一共是 19126.88269029545 元\n",
      "第 11 年的本息一共是 20408.383830545245 元\n",
      "可算是翻倍了\n"
     ]
    }
   ],
   "source": [
    "benjin = 10000\n",
    "nianshu = 0\n",
    "nianlilv = 0.067\n",
    "while benjin < 20000:\n",
    "    benjin = benjin*(1+nianlilv)\n",
    "    nianshu += 1\n",
    "    print(\"第 {0} 年的本息一共是 {1} 元\".format(nianshu,benjin))\n",
    "else:\n",
    "    print(\"可算是翻倍了\")\n",
    "    "
   ]
  },
  {
   "cell_type": "code",
   "execution_count": 41,
   "metadata": {},
   "outputs": [],
   "source": [
    "def fulijisuanqi(benjin,nianlilv):  \n",
    "    nianshu = 0\n",
    "    fanbeizhi = benjin*2\n",
    "    while benjin < fanbeizhi:\n",
    "        benjin = benjin*(1+nianlilv)\n",
    "        nianshu += 1\n",
    "        print(\"第 {0} 年的本息一共是 {1} 元\".format(nianshu,benjin))\n",
    "    else:\n",
    "        print(\"可算是翻倍了\")\n",
    "    return nianshu\n",
    "\n",
    "\n",
    "\n",
    "        \n"
   ]
  },
  {
   "cell_type": "code",
   "execution_count": 42,
   "metadata": {},
   "outputs": [
    {
     "name": "stdout",
     "output_type": "stream",
     "text": [
      "第 1 年的本息一共是 2200.0 元\n",
      "第 2 年的本息一共是 2420.0 元\n",
      "第 3 年的本息一共是 2662.0 元\n",
      "第 4 年的本息一共是 2928.2000000000003 元\n",
      "第 5 年的本息一共是 3221.0200000000004 元\n",
      "第 6 年的本息一共是 3543.1220000000008 元\n",
      "第 7 年的本息一共是 3897.434200000001 元\n",
      "第 8 年的本息一共是 4287.177620000001 元\n",
      "可算是翻倍了\n",
      "8\n"
     ]
    }
   ],
   "source": [
    "p = fulijisuanqi(2000,0.1) \n",
    "print(p)\n"
   ]
  },
  {
   "cell_type": "code",
   "execution_count": 43,
   "metadata": {},
   "outputs": [
    {
     "name": "stdout",
     "output_type": "stream",
     "text": [
      "Help on built-in function print in module builtins:\n",
      "\n",
      "print(...)\n",
      "    print(value, ..., sep=' ', end='\\n', file=sys.stdout, flush=False)\n",
      "    \n",
      "    Prints the values to a stream, or to sys.stdout by default.\n",
      "    Optional keyword arguments:\n",
      "    file:  a file-like object (stream); defaults to the current sys.stdout.\n",
      "    sep:   string inserted between values, default a space.\n",
      "    end:   string appended after the last value, default a newline.\n",
      "    flush: whether to forcibly flush the stream.\n",
      "\n"
     ]
    }
   ],
   "source": [
    "help(print)\n"
   ]
  },
  {
   "cell_type": "code",
   "execution_count": null,
   "metadata": {
    "collapsed": true
   },
   "outputs": [],
   "source": []
  }
 ],
 "metadata": {
  "kernelspec": {
   "display_name": "Python 3",
   "language": "python",
   "name": "python3"
  },
  "language_info": {
   "codemirror_mode": {
    "name": "ipython",
    "version": 3
   },
   "file_extension": ".py",
   "mimetype": "text/x-python",
   "name": "python",
   "nbconvert_exporter": "python",
   "pygments_lexer": "ipython3",
   "version": "3.6.3"
  }
 },
 "nbformat": 4,
 "nbformat_minor": 2
}
