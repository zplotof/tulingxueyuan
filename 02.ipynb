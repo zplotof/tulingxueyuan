{
 "cells": [
  {
   "cell_type": "code",
   "execution_count": 4,
   "metadata": {
    "scrolled": true
   },
   "outputs": [
    {
     "name": "stdout",
     "output_type": "stream",
     "text": [
      "hello world\n"
     ]
    },
    {
     "data": {
      "text/plain": [
       "'\\n    这里边任何内容机器都不管了\\n    我可以写很多\\n    很多\\n'"
      ]
     },
     "execution_count": 4,
     "metadata": {},
     "output_type": "execute_result"
    }
   ],
   "source": [
    "#代码的作用\n",
    "# 1. 给人看\n",
    "# 2. 给机器看\n",
    "# 注释是纯给人看的\n",
    "print(\"hello world\")#打印hello world出来\n",
    "'''\n",
    "    这里边任何内容机器都不管了\n",
    "    我可以写很多\n",
    "    很多\n",
    "'''\n"
   ]
  },
  {
   "cell_type": "markdown",
   "metadata": {},
   "source": [
    "#变量\n",
    "- 程序 = 数据结构+算法\n",
    "- 变量就是可以重复使用的一个量，或者一个代号\n",
    "- 变量命名的规则\n",
    "    - 变量命名可以包含数字，大小写字母，下划线或者更多，但是我们不推荐除了前三种内容之外的符号\n",
    "    - 数字不可以打头\n",
    "        - 4man， 5for是不可以的\n",
    "        - man4，for5是可以的\n",
    "    - 一般在python 中，以下划线开头的内容具有特殊内容，不建议使用\n",
    "        - 比如 _age_\n",
    "    - 大小写不一样，俗称大小写敏感\n",
    "    - 推荐：\n",
    "        - 使用具有固定含义的英文单词或者缩写，srv=server\n",
    "        - 驼峰命名法\n",
    "            - 名称以单词自动链接，且每个单词首字母大写\n",
    "                - 大驼峰，每个单词第一个字母均大写\n",
    "                    - 在python最后在那个给类命名使用此法\n",
    "                    - MyFirstLove\n",
    "                 - 小驼峰，类似大驼峰，但第一个字母小写\n",
    "                     - 在Python中一般给普通变量或者函数命名\n",
    "                     - myFirstLove\n",
    "                 - Posix写法\n",
    "                     - 多个单词用下划线链接\n",
    "                     - 单词全部小写\n",
    "                     - my_first_love\n",
    "- 保留字和关键字\n",
    "    - class def break for\n",
    "    - 变量命名必须避开，不能跟关键字和保留字重复\n",
    "            "
   ]
  },
  {
   "cell_type": "code",
   "execution_count": 9,
   "metadata": {},
   "outputs": [
    {
     "name": "stdout",
     "output_type": "stream",
     "text": [
      "['False', 'None', 'True', 'and', 'as', 'assert', 'break', 'class', 'continue', 'def', 'del', 'elif', 'else', 'except', 'finally', 'for', 'from', 'global', 'if', 'import', 'in', 'is', 'lambda', 'nonlocal', 'not', 'or', 'pass', 'raise', 'return', 'try', 'while', 'with', 'yield']\n"
     ]
    }
   ],
   "source": [
    "#查看关键字的方法\n",
    "import keyword #引入关键字模块\n",
    "print(keyword.kwlist)\n",
    "\n"
   ]
  },
  {
   "cell_type": "markdown",
   "metadata": {},
   "source": [
    "##变量声明\n",
    "- var_name = var_value\n",
    "- var1 = var2 = var3 = var_value\n",
    "- var"
   ]
  },
  {
   "cell_type": "code",
   "execution_count": 12,
   "metadata": {},
   "outputs": [
    {
     "name": "stdout",
     "output_type": "stream",
     "text": [
      "18\n",
      "18\n"
     ]
    }
   ],
   "source": [
    "age =18\n",
    "print(age)\n",
    "age1 = 0b10010\n",
    "print(age1)"
   ]
  },
  {
   "cell_type": "markdown",
   "metadata": {},
   "source": [
    "#注释\n",
    "- 机器不执行注释地内容\n",
    "- 注释一般用自然语言书写\n",
    "- 注释的写法\n",
    "    - 行注释： 以井号开头，可以单独行，也可以在某行代码后边\n",
    "    - 块注释： 好几行代码或者内容，以单个连续的单引号或者双引号开始和结束，中间任何内容都忽略\n"
   ]
  }
 ],
 "metadata": {
  "kernelspec": {
   "display_name": "Python 3",
   "language": "python",
   "name": "python3"
  },
  "language_info": {
   "codemirror_mode": {
    "name": "ipython",
    "version": 3
   },
   "file_extension": ".py",
   "mimetype": "text/x-python",
   "name": "python",
   "nbconvert_exporter": "python",
   "pygments_lexer": "ipython3",
   "version": "3.6.3"
  }
 },
 "nbformat": 4,
 "nbformat_minor": 2
}
