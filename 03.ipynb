{
 "cells": [
  {
   "cell_type": "code",
   "execution_count": 1,
   "metadata": {},
   "outputs": [
    {
     "name": "stdout",
     "output_type": "stream",
     "text": [
      "Please type in your 性别ddfdf\n",
      "your xingbie is:ddfdf\n"
     ]
    }
   ],
   "source": [
    "gender = input(\"Please type in your 性别\")\n",
    "print(\"your xingbie is:{0}\".format(gender))\n",
    "\n",
    "if gender == \"nan\":\n",
    "    print(\"罚站\")\n",
    "else：\n",
    "    print(\"吃糖\")\n",
    "print(\"上课\")\n"
   ]
  },
  {
   "cell_type": "code",
   "execution_count": 5,
   "metadata": {},
   "outputs": [
    {
     "name": "stdout",
     "output_type": "stream",
     "text": [
      "Please type in your 性别sd\n",
      "your xingbie is:sd\n",
      "吃糖\n",
      "上课\n"
     ]
    }
   ],
   "source": [
    "gender = input(\"Please type in your 性别\")\n",
    "print(\"your xingbie is:{0}\".format(gender))\n",
    "\n",
    "if gender == \"nan\":\n",
    "    print(\"罚站\")\n",
    "    \n",
    "else:\n",
    "    print(\"吃糖\")  \n",
    "\n",
    "print(\"上课\")\n",
    "\n",
    "\n",
    "\n"
   ]
  },
  {
   "cell_type": "code",
   "execution_count": 9,
   "metadata": {},
   "outputs": [
    {
     "name": "stdout",
     "output_type": "stream",
     "text": [
      "输入分数98\n",
      "A\n"
     ]
    }
   ],
   "source": [
    "score = input(\"输入分数\")\n",
    "score = int(score)\n",
    "\n",
    "if score>90:\n",
    "    print(\"A\")\n",
    "if score>=80 and score<=90:\n",
    "    print(\"B\")\n"
   ]
  }
 ],
 "metadata": {
  "kernelspec": {
   "display_name": "Python 3",
   "language": "python",
   "name": "python3"
  },
  "language_info": {
   "codemirror_mode": {
    "name": "ipython",
    "version": 3
   },
   "file_extension": ".py",
   "mimetype": "text/x-python",
   "name": "python",
   "nbconvert_exporter": "python",
   "pygments_lexer": "ipython3",
   "version": "3.6.3"
  }
 },
 "nbformat": 4,
 "nbformat_minor": 2
}
